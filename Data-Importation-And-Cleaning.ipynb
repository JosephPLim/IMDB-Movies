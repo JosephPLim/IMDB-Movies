{
 "cells": [
  {
   "cell_type": "code",
   "execution_count": null,
   "id": "20d3c0c7",
   "metadata": {},
   "outputs": [],
   "source": [
    "# Data Importation and Basic Cleaning\n",
    "\n",
    "This notebook's purpose is to download several files from IMDB's movie data set and filter out the subset of movies as requested by the stakeholder. Additionally, basic data cleaning (removal of duplicates, etc.) will be provided.\n",
    "\n",
    "The following files are to be downloaded and filtered:\n",
    "* [Akas](https://datasets.imdbws.com/title.akas.tsv.gz)\n",
    "* [Ratings](https://datasets.imdbws.com/title.ratings.tsv.gz)\n",
    "* [Basics](https://datasets.imdbws.com/name.basics.tsv.gz)\n",
    "* [Crew](https://datasets.imdbws.com/title.crew.tsv.gz)\n",
    "* [Principals](https://datasets.imdbws.com/title.principals.tsv.gz)\n",
    "* [Names](https://datasets.imdbws.com/name.basics.tsv.gz)\n",
    "\n",
    "The data dictionary can be found [here](https://www.imdb.com/interfaces/).\n",
    "\n",
    "Datasets for extraction can be found [here](https://datasets.imdbws.com/)\n"
   ]
  },
  {
   "cell_type": "markdown",
   "id": "4dfc8f47",
   "metadata": {},
   "source": [
    "## Library Importation, Folder Creation, and Function Implementation\n",
    "\n",
    "Importing various libraries such as Pandas, creating any folders, and implementing any useful functions later on."
   ]
  },
  {
   "cell_type": "code",
   "execution_count": null,
   "id": "a70616c6",
   "metadata": {},
   "outputs": [],
   "source": [
    "#Importing numpy and pandas for basic data manipulation\n",
    "import numpy as np\n",
    "import pandas as pd\n",
    "\n",
    "#Importing os to connect with operating system\n",
    "import os"
   ]
  },
  {
   "cell_type": "code",
   "execution_count": null,
   "id": "27b9a519",
   "metadata": {},
   "outputs": [],
   "source": [
    "#Setting pandas options to max column and row displays\n",
    "pd.set_option('display.max_columns', None) #Used for displaying columns\n",
    "pd.set_option('display.max_rows', None) #Used for displaying rows"
   ]
  },
  {
   "cell_type": "code",
   "execution_count": null,
   "id": "57e09b3e",
   "metadata": {},
   "outputs": [],
   "source": [
    "#Making data folder if one does not already exist\n",
    "FOLDER = \"Data/\"\n",
    "os.makedirs(FOLDER, exist_ok=True)\n",
    "os.listdir(FOLDER)"
   ]
  },
  {
   "cell_type": "markdown",
   "id": "0d7ee860",
   "metadata": {},
   "source": [
    "## Creating and Cleaning Databases\n",
    "\n",
    "The following will be applied to all databases:\n",
    "\n",
    "* Exclude any movie with missing values for genre or runtime\n",
    "* Include only full-length movies (titleType = \"movie\").\n",
    "* Include only fictional movies (not from documentary genre)\n",
    "* Include only movies that were released 2000 - 2021 (include 2000 and 2021)\n",
    "* Include only movies that were released in the United States\n",
    "* Replace all \"\\N\" values with np.nan"
   ]
  },
  {
   "cell_type": "markdown",
   "id": "259ca3f4",
   "metadata": {},
   "source": [
    "### Creating and Cleaning Akas\n",
    "\n",
    "akas_url: https://datasets.imdbws.com/title.akas.tsv.gz"
   ]
  },
  {
   "cell_type": "code",
   "execution_count": null,
   "id": "d7addb53",
   "metadata": {},
   "outputs": [],
   "source": [
    "akas_url = \"https://datasets.imdbws.com/title.akas.tsv.gz\"\n",
    "\n",
    "akas_df = pd.read_csv(akas_url, sep = \"\\t\", low_memory = False)\n",
    "akas_df.head()"
   ]
  },
  {
   "cell_type": "code",
   "execution_count": null,
   "id": "cefae278",
   "metadata": {},
   "outputs": [],
   "source": [
    "#Checking what abbreviation = US\n",
    "#i.e. is the abbr. US, or USA?\n",
    "akas_df[\"region\"].value_counts()"
   ]
  },
  {
   "cell_type": "markdown",
   "id": "c1c90d13",
   "metadata": {},
   "source": [
    "<center>The abbreviation for movies from the USA, is \"US\".</center>"
   ]
  },
  {
   "cell_type": "code",
   "execution_count": null,
   "id": "da6e1b6e",
   "metadata": {},
   "outputs": [],
   "source": [
    "#Filtering out non-US regions\n",
    "akas_filter = akas_df[\"region\"] == \"US\"\n",
    "\n",
    "akas_df = akas_df[akas_filter]\n",
    "\n",
    "akas_df[\"region\"].value_counts()"
   ]
  },
  {
   "cell_type": "code",
   "execution_count": null,
   "id": "6d58fc4e",
   "metadata": {},
   "outputs": [],
   "source": [
    "#Removing all \\N values\n",
    "akas_df = akas_df.replace({\"\\\\N\":np.nan})\n",
    "\n",
    "akas_df.head()"
   ]
  },
  {
   "cell_type": "code",
   "execution_count": null,
   "id": "9cac8ec2",
   "metadata": {},
   "outputs": [],
   "source": [
    "#Checking for duplicated values\n",
    "akas_df.duplicated().sum()"
   ]
  },
  {
   "cell_type": "code",
   "execution_count": null,
   "id": "eea018b8",
   "metadata": {},
   "outputs": [],
   "source": [
    "#Preliminary check for missing values\n",
    "akas_df.isna().sum()"
   ]
  },
  {
   "cell_type": "code",
   "execution_count": null,
   "id": "e9045aa9",
   "metadata": {},
   "outputs": [],
   "source": [
    "#Preliminary check for missing values by %\n",
    "akas_df.isna().sum()/len(akas_df) * 100"
   ]
  },
  {
   "cell_type": "markdown",
   "id": "a5ba6f42",
   "metadata": {},
   "source": [
    "### Creating and Cleaning Ratings\n",
    "\n",
    "ratings_url: https://datasets.imdbws.com/title.ratings.tsv.gz"
   ]
  },
  {
   "cell_type": "code",
   "execution_count": null,
   "id": "aa6ed552",
   "metadata": {},
   "outputs": [],
   "source": [
    "ratings_url = \"https://datasets.imdbws.com/title.ratings.tsv.gz\"\n",
    "\n",
    "ratings_df = pd.read_csv(ratings_url, sep = \"\\t\", low_memory = False)\n",
    "ratings_df.head()"
   ]
  },
  {
   "cell_type": "code",
   "execution_count": null,
   "id": "f9fd3064",
   "metadata": {},
   "outputs": [],
   "source": [
    "#Filtering out non-US ratings\n",
    "ratings_in_US_filter = ratings_df[\"tconst\"].isin(akas_df[\"titleId\"])\n",
    "\n",
    "ratings_df = ratings_df[ratings_in_US_filter]\n",
    "ratings_df.head()"
   ]
  },
  {
   "cell_type": "code",
   "execution_count": null,
   "id": "968ec563",
   "metadata": {},
   "outputs": [],
   "source": [
    "#Removing all \\N values\n",
    "ratings_df = ratings_df.replace({\"\\\\N\":np.nan})\n",
    "\n",
    "ratings_df.head()"
   ]
  },
  {
   "cell_type": "code",
   "execution_count": null,
   "id": "c94b891b",
   "metadata": {},
   "outputs": [],
   "source": [
    "#Checking for duplicated values\n",
    "ratings_df.duplicated().sum()"
   ]
  },
  {
   "cell_type": "code",
   "execution_count": null,
   "id": "fc89390e",
   "metadata": {},
   "outputs": [],
   "source": [
    "#Preliminary check for missing values\n",
    "ratings_df.isna().sum()"
   ]
  },
  {
   "cell_type": "markdown",
   "id": "13c2d5f6",
   "metadata": {},
   "source": [
    "### Creating and Cleaning Basics\n",
    "\n",
    "basics_url: https://datasets.imdbws.com/title.basics.tsv.gz"
   ]
  },
  {
   "cell_type": "code",
   "execution_count": null,
   "id": "893e95a2",
   "metadata": {},
   "outputs": [],
   "source": [
    "basics_url = \"https://datasets.imdbws.com/title.basics.tsv.gz\"\n",
    "\n",
    "basics_df = pd.read_csv(basics_url, sep = \"\\t\", low_memory = False)\n",
    "basics_df.head()"
   ]
  },
  {
   "cell_type": "code",
   "execution_count": null,
   "id": "7726431a",
   "metadata": {},
   "outputs": [],
   "source": [
    "#Filtering out non-US movies\n",
    "movies_in_US_filter = basics_df[\"tconst\"].isin(akas_df[\"titleId\"])\n",
    "\n",
    "basics_df = basics_df[movies_in_US_filter]\n",
    "basics_df.head()"
   ]
  },
  {
   "cell_type": "code",
   "execution_count": null,
   "id": "046f2584",
   "metadata": {},
   "outputs": [],
   "source": [
    "# Removing all \\N values\n",
    "basics_df = basics_df.replace({\"\\\\N\": np.nan})\n",
    "\n",
    "basics_df.head()"
   ]
  },
  {
   "cell_type": "code",
   "execution_count": null,
   "id": "3d5d7f56",
   "metadata": {},
   "outputs": [],
   "source": [
    "#Filtering out non-movies\n",
    "isMovie = basics_df[\"titleType\"] == \"movie\"\n",
    "basics_df = basics_df[isMovie]\n",
    "\n",
    "basics_df.head()"
   ]
  },
  {
   "cell_type": "code",
   "execution_count": null,
   "id": "a6812d2e",
   "metadata": {},
   "outputs": [],
   "source": [
    "#Checking type of \"genres\"\n",
    "basics_df[\"genres\"].info()"
   ]
  },
  {
   "cell_type": "code",
   "execution_count": null,
   "id": "62d1ad95",
   "metadata": {},
   "outputs": [],
   "source": [
    "#Filtering out documentaries\n",
    "is_documentary = basics_df[\"genres\"].str.contains(\"documentary\", na = False)\n",
    "is_Documentary = basics_df[\"genres\"].str.contains(\"Documentary\", na = False)\n",
    "basics_df = basics_df[~is_documentary & ~is_Documentary]\n",
    "\n",
    "basics_df.head()"
   ]
  },
  {
   "cell_type": "code",
   "execution_count": null,
   "id": "0d53ef96",
   "metadata": {},
   "outputs": [],
   "source": [
    "#Changing startYear to be an int\n",
    "basics_df[\"startYear\"] = basics_df[\"startYear\"].astype(float)\n",
    "\n",
    "#Filters for movies from 2000-2021 inclusive\n",
    "isOlderThan2000 = basics_df[\"startYear\"] >= 2000\n",
    "isYoungerThan2022 = basics_df[\"startYear\"] <= 2021\n",
    "\n",
    "basics_df = basics_df[isOlderThan2000 & isYoungerThan2022]\n",
    "\n",
    "#Checking to make sure filters work\n",
    "basics_df.describe()"
   ]
  },
  {
   "cell_type": "code",
   "execution_count": null,
   "id": "28720570",
   "metadata": {},
   "outputs": [],
   "source": [
    "#Changing runtimeMinutes to an int\n",
    "basics_df[\"runtimeMinutes\"] = basics_df[\"runtimeMinutes\"].astype(float)\n",
    "\n",
    "#Removing NA values in runtimeMinutes, genres\n",
    "basics_df = basics_df.dropna(subset = [\"runtimeMinutes\", \"genres\"])\n",
    "\n",
    "#Preliminary check for missing values\n",
    "basics_df.isna().sum()"
   ]
  },
  {
   "cell_type": "code",
   "execution_count": null,
   "id": "5b1c00c6",
   "metadata": {},
   "outputs": [],
   "source": [
    "#Checking for duplicates\n",
    "basics_df.duplicated().sum()"
   ]
  },
  {
   "cell_type": "markdown",
   "id": "a50ab336",
   "metadata": {},
   "source": [
    "### Creating and Cleaning Crew\n",
    "\n",
    "crew_url: https://datasets.imdbws.com/title.crew.tsv.gz"
   ]
  },
  {
   "cell_type": "code",
   "execution_count": null,
   "id": "ebe537ed",
   "metadata": {},
   "outputs": [],
   "source": [
    "crew_url = \"https://datasets.imdbws.com/title.crew.tsv.gz\"\n",
    "\n",
    "crew_df = pd.read_csv(crew_url, sep = \"\\t\", low_memory = False)\n",
    "crew_df.head()"
   ]
  },
  {
   "cell_type": "code",
   "execution_count": null,
   "id": "22f4a9f8",
   "metadata": {},
   "outputs": [],
   "source": [
    "#Filtering out crew that are not in basics\n",
    "movies_in_basics_filter = crew_df[\"tconst\"].isin(basics_df[\"tconst\"])\n",
    "\n",
    "crew_df = crew_df[movies_in_basics_filter]\n",
    "crew_df.head()"
   ]
  },
  {
   "cell_type": "code",
   "execution_count": null,
   "id": "95db02a5",
   "metadata": {},
   "outputs": [],
   "source": [
    "# Removing all \\N values\n",
    "crew_df = crew_df.replace({\"\\\\N\": np.nan})\n",
    "\n",
    "crew_df.head()"
   ]
  },
  {
   "cell_type": "markdown",
   "id": "63e374d8",
   "metadata": {},
   "source": [
    "#### Creating unique pairs of Directors and Writers"
   ]
  },
  {
   "cell_type": "code",
   "execution_count": null,
   "id": "82cac41a",
   "metadata": {},
   "outputs": [],
   "source": [
    "#Splitting writers and directors into lists\n",
    "crew_df[\"directors_split\"] = crew_df[\"directors\"].str.split(',')\n",
    "crew_df[\"writers_split\"] = crew_df[\"writers\"].str.split(',')\n",
    "crew_df.head()"
   ]
  },
  {
   "cell_type": "code",
   "execution_count": null,
   "id": "6541636e",
   "metadata": {},
   "outputs": [],
   "source": [
    "#Removing unnecessary directors and writers columns\n",
    "crew_df = crew_df.drop(columns = [\"directors\", \"writers\"])\n",
    "crew_df.head()"
   ]
  },
  {
   "cell_type": "code",
   "execution_count": null,
   "id": "c6e8b01f",
   "metadata": {},
   "outputs": [],
   "source": [
    "#Exploding directors and writers\n",
    "crew_df = crew_df.explode(\"directors_split\")\n",
    "crew_df = crew_df.explode(\"writers_split\")\n",
    "crew_df.head()"
   ]
  },
  {
   "cell_type": "code",
   "execution_count": null,
   "id": "a6295277",
   "metadata": {},
   "outputs": [],
   "source": [
    "#Renaming directors and writers columns\n",
    "crew_df = crew_df.rename(columns = {\"directors_split\": \"director\", \"writers_split\": \"writer\"})\n",
    "crew_df.head()"
   ]
  },
  {
   "cell_type": "code",
   "execution_count": null,
   "id": "6215f7c1",
   "metadata": {},
   "outputs": [],
   "source": [
    "unique_director = crew_df[\"director\"].unique()\n",
    "unique_director"
   ]
  },
  {
   "cell_type": "code",
   "execution_count": null,
   "id": "95e70af0",
   "metadata": {},
   "outputs": [],
   "source": [
    "unique_writer = crew_df[\"writer\"].unique()\n",
    "unique_writer"
   ]
  },
  {
   "cell_type": "markdown",
   "id": "60a69edb",
   "metadata": {},
   "source": [
    "### Creating and Cleaning Principals\n",
    "\n",
    "principals_url: https://datasets.imdbws.com/title.principals.tsv.gz"
   ]
  },
  {
   "cell_type": "code",
   "execution_count": null,
   "id": "106a52e9",
   "metadata": {},
   "outputs": [],
   "source": [
    "principals_url = \"https://datasets.imdbws.com/title.principals.tsv.gz\"\n",
    "\n",
    "principals_df = pd.read_csv(principals_url, sep = \"\\t\", low_memory = False)\n",
    "\n",
    "principals_df.head()"
   ]
  },
  {
   "cell_type": "code",
   "execution_count": null,
   "id": "df4a6bfe",
   "metadata": {},
   "outputs": [],
   "source": [
    "#Filtering out principals that are not in basics\n",
    "movies_in_basics_filter = principals_df[\"tconst\"].isin(basics_df[\"tconst\"])\n",
    "\n",
    "principals_df = principals_df[movies_in_basics_filter]\n",
    "principals_df.head()"
   ]
  },
  {
   "cell_type": "code",
   "execution_count": null,
   "id": "f069aa5b",
   "metadata": {},
   "outputs": [],
   "source": [
    "# Removing all \\N values\n",
    "principals_df = principals_df.replace({\"\\\\N\": np.nan})\n",
    "\n",
    "principals_df.head()"
   ]
  },
  {
   "cell_type": "markdown",
   "id": "d4356562",
   "metadata": {},
   "source": [
    "### Creating and Cleaning Names\n",
    "\n",
    "names_url: https://datasets.imdbws.com/name.basics.tsv.gz"
   ]
  },
  {
   "cell_type": "code",
   "execution_count": null,
   "id": "5cb9a39e",
   "metadata": {},
   "outputs": [],
   "source": [
    "names_url = \"https://datasets.imdbws.com/name.basics.tsv.gz\"\n",
    "\n",
    "names_df = pd.read_csv(names_url, sep = \"\\t\", low_memory = False)\n",
    "\n",
    "names_df.head()"
   ]
  },
  {
   "cell_type": "code",
   "execution_count": null,
   "id": "49831032",
   "metadata": {},
   "outputs": [],
   "source": [
    "#Filtering out crew\n",
    "names_in_principals_filter = names_df[\"nconst\"].isin(principals_df[\"nconst\"])\n",
    "names_in_directors_filter = names_df[\"nconst\"].isin(unique_director)\n",
    "names_in_writers_filter = names_df[\"nconst\"].isin(unique_writer)\n",
    "\n",
    "names_df = names_df[names_in_principals_filter | \n",
    "                    names_in_directors_filter |\n",
    "                    names_in_writers_filter]\n",
    "names_df.head()"
   ]
  },
  {
   "cell_type": "code",
   "execution_count": null,
   "id": "2a9a97fd",
   "metadata": {},
   "outputs": [],
   "source": [
    "# Removing all \\N values\n",
    "names_df = names_df.replace({\"\\\\N\": np.nan})\n",
    "\n",
    "names_df.head()"
   ]
  },
  {
   "cell_type": "markdown",
   "id": "061c3fcf",
   "metadata": {},
   "source": [
    "## Deliverables\n",
    "\n",
    "In order to showcase what has been done\n",
    "\n",
    "* A summary of how many movies remain in each dataset and the datatypes for each feature will be provided\n",
    "* Each pandas dataframe will be compressed into a csv file into the \"Data/\" folder"
   ]
  },
  {
   "cell_type": "markdown",
   "id": "6c508923",
   "metadata": {},
   "source": [
    "### Showcasing how many movies remain in each dataset w/ features"
   ]
  },
  {
   "cell_type": "code",
   "execution_count": null,
   "id": "ddf70d88",
   "metadata": {},
   "outputs": [],
   "source": []
  },
  {
   "cell_type": "code",
   "execution_count": null,
   "id": "c69110d4",
   "metadata": {},
   "outputs": [],
   "source": []
  },
  {
   "cell_type": "code",
   "execution_count": null,
   "id": "a6fac197",
   "metadata": {},
   "outputs": [],
   "source": []
  },
  {
   "cell_type": "code",
   "execution_count": null,
   "id": "ee1e548e",
   "metadata": {},
   "outputs": [],
   "source": []
  },
  {
   "cell_type": "code",
   "execution_count": null,
   "id": "bc5106b9",
   "metadata": {},
   "outputs": [],
   "source": []
  },
  {
   "cell_type": "code",
   "execution_count": null,
   "id": "41a8c92a",
   "metadata": {},
   "outputs": [],
   "source": []
  },
  {
   "cell_type": "code",
   "execution_count": null,
   "id": "6ebeb5f8",
   "metadata": {},
   "outputs": [],
   "source": []
  }
 ],
 "metadata": {
  "kernelspec": {
   "display_name": "Python 3 (ipykernel)",
   "language": "python",
   "name": "python3"
  },
  "language_info": {
   "codemirror_mode": {
    "name": "ipython",
    "version": 3
   },
   "file_extension": ".py",
   "mimetype": "text/x-python",
   "name": "python",
   "nbconvert_exporter": "python",
   "pygments_lexer": "ipython3",
   "version": "3.9.15"
  },
  "toc": {
   "base_numbering": 1,
   "nav_menu": {},
   "number_sections": false,
   "sideBar": true,
   "skip_h1_title": false,
   "title_cell": "Table of Contents",
   "title_sidebar": "Contents",
   "toc_cell": false,
   "toc_position": {},
   "toc_section_display": true,
   "toc_window_display": false
  }
 },
 "nbformat": 4,
 "nbformat_minor": 5
}
