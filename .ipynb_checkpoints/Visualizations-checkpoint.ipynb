{
 "cells": [
  {
   "cell_type": "markdown",
   "id": "7b969c0f",
   "metadata": {},
   "source": [
    "# Visualizations\n",
    "\n",
    "This notebook's purpose is to provide exploratory and explanatory data analysis of the dataset prior to any processing for machine learning."
   ]
  },
  {
   "cell_type": "markdown",
   "id": "75aed76a",
   "metadata": {},
   "source": [
    "## Library Importation, Folder Creation and Function Implementation"
   ]
  },
  {
   "cell_type": "code",
   "execution_count": 1,
   "id": "0d9bdfad",
   "metadata": {},
   "outputs": [],
   "source": [
    "#Importing numpy and pandas for basic data manipulation\n",
    "import numpy as np\n",
    "import pandas as pd\n",
    "\n",
    "#importing os for operating system interfacing\n",
    "import os\n",
    "\n",
    "#Importing matplotlib and seaborn for basic data visualization\n",
    "import matplotlib.pyplot as plt\n",
    "import seaborn as sns"
   ]
  },
  {
   "cell_type": "code",
   "execution_count": 2,
   "id": "3929763c",
   "metadata": {},
   "outputs": [
    {
     "data": {
      "text/plain": [
       "[]"
      ]
     },
     "execution_count": 2,
     "metadata": {},
     "output_type": "execute_result"
    }
   ],
   "source": [
    "#Creating new folder for visuals\n",
    "vis_folder = \"Visualizations/\"\n",
    "os.makedirs(vis_folder, exist_ok=True)\n",
    "os.listdir(vis_folder)"
   ]
  },
  {
   "cell_type": "code",
   "execution_count": 3,
   "id": "b11c1e14",
   "metadata": {},
   "outputs": [
    {
     "data": {
      "text/html": [
       "<div>\n",
       "<style scoped>\n",
       "    .dataframe tbody tr th:only-of-type {\n",
       "        vertical-align: middle;\n",
       "    }\n",
       "\n",
       "    .dataframe tbody tr th {\n",
       "        vertical-align: top;\n",
       "    }\n",
       "\n",
       "    .dataframe thead th {\n",
       "        text-align: right;\n",
       "    }\n",
       "</style>\n",
       "<table border=\"1\" class=\"dataframe\">\n",
       "  <thead>\n",
       "    <tr style=\"text-align: right;\">\n",
       "      <th></th>\n",
       "      <th>adult</th>\n",
       "      <th>backdrop_path</th>\n",
       "      <th>belongs_to_collection</th>\n",
       "      <th>budget</th>\n",
       "      <th>genres</th>\n",
       "      <th>homepage</th>\n",
       "      <th>id</th>\n",
       "      <th>original_language</th>\n",
       "      <th>original_title</th>\n",
       "      <th>overview</th>\n",
       "      <th>...</th>\n",
       "      <th>revenue</th>\n",
       "      <th>runtime</th>\n",
       "      <th>spoken_languages</th>\n",
       "      <th>status</th>\n",
       "      <th>tagline</th>\n",
       "      <th>title</th>\n",
       "      <th>video</th>\n",
       "      <th>vote_average</th>\n",
       "      <th>vote_count</th>\n",
       "      <th>certification</th>\n",
       "    </tr>\n",
       "  </thead>\n",
       "  <tbody>\n",
       "    <tr>\n",
       "      <th>0</th>\n",
       "      <td>NaN</td>\n",
       "      <td>NaN</td>\n",
       "      <td>NaN</td>\n",
       "      <td>NaN</td>\n",
       "      <td>NaN</td>\n",
       "      <td>NaN</td>\n",
       "      <td>NaN</td>\n",
       "      <td>NaN</td>\n",
       "      <td>NaN</td>\n",
       "      <td>NaN</td>\n",
       "      <td>...</td>\n",
       "      <td>NaN</td>\n",
       "      <td>NaN</td>\n",
       "      <td>NaN</td>\n",
       "      <td>NaN</td>\n",
       "      <td>NaN</td>\n",
       "      <td>NaN</td>\n",
       "      <td>NaN</td>\n",
       "      <td>NaN</td>\n",
       "      <td>NaN</td>\n",
       "      <td>NaN</td>\n",
       "    </tr>\n",
       "    <tr>\n",
       "      <th>1</th>\n",
       "      <td>0.0</td>\n",
       "      <td>/vMFs7nw6P0bIV1jDsQpxAieAVnH.jpg</td>\n",
       "      <td>NaN</td>\n",
       "      <td>10000000.0</td>\n",
       "      <td>[{'id': 35, 'name': 'Comedy'}, {'id': 10402, '...</td>\n",
       "      <td>NaN</td>\n",
       "      <td>62127.0</td>\n",
       "      <td>en</td>\n",
       "      <td>The Fantasticks</td>\n",
       "      <td>Two rural teens sing and dance their way throu...</td>\n",
       "      <td>...</td>\n",
       "      <td>0.0</td>\n",
       "      <td>86.0</td>\n",
       "      <td>[{'english_name': 'English', 'iso_639_1': 'en'...</td>\n",
       "      <td>Released</td>\n",
       "      <td>Try to remember the first time magic happened</td>\n",
       "      <td>The Fantasticks</td>\n",
       "      <td>0.0</td>\n",
       "      <td>5.500</td>\n",
       "      <td>22.0</td>\n",
       "      <td>NaN</td>\n",
       "    </tr>\n",
       "    <tr>\n",
       "      <th>2</th>\n",
       "      <td>0.0</td>\n",
       "      <td>NaN</td>\n",
       "      <td>NaN</td>\n",
       "      <td>0.0</td>\n",
       "      <td>[{'id': 878, 'name': 'Science Fiction'}]</td>\n",
       "      <td>NaN</td>\n",
       "      <td>110977.0</td>\n",
       "      <td>en</td>\n",
       "      <td>For the Cause</td>\n",
       "      <td>Earth is in a state of constant war and two co...</td>\n",
       "      <td>...</td>\n",
       "      <td>0.0</td>\n",
       "      <td>100.0</td>\n",
       "      <td>[{'english_name': 'English', 'iso_639_1': 'en'...</td>\n",
       "      <td>Released</td>\n",
       "      <td>The ultimate showdown on a forbidden planet.</td>\n",
       "      <td>For the Cause</td>\n",
       "      <td>0.0</td>\n",
       "      <td>5.100</td>\n",
       "      <td>8.0</td>\n",
       "      <td>NaN</td>\n",
       "    </tr>\n",
       "    <tr>\n",
       "      <th>3</th>\n",
       "      <td>0.0</td>\n",
       "      <td>NaN</td>\n",
       "      <td>NaN</td>\n",
       "      <td>0.0</td>\n",
       "      <td>[{'id': 18, 'name': 'Drama'}, {'id': 28, 'name...</td>\n",
       "      <td>NaN</td>\n",
       "      <td>442869.0</td>\n",
       "      <td>hi</td>\n",
       "      <td>Gang</td>\n",
       "      <td>After falling prey to underworld, four friends...</td>\n",
       "      <td>...</td>\n",
       "      <td>0.0</td>\n",
       "      <td>152.0</td>\n",
       "      <td>[{'english_name': 'Hindi', 'iso_639_1': 'hi', ...</td>\n",
       "      <td>Released</td>\n",
       "      <td>NaN</td>\n",
       "      <td>Gang</td>\n",
       "      <td>0.0</td>\n",
       "      <td>4.000</td>\n",
       "      <td>1.0</td>\n",
       "      <td>NaN</td>\n",
       "    </tr>\n",
       "    <tr>\n",
       "      <th>4</th>\n",
       "      <td>0.0</td>\n",
       "      <td>/n4GJFGzsc7NinI1VeGDXIcQjtU2.jpg</td>\n",
       "      <td>NaN</td>\n",
       "      <td>150000.0</td>\n",
       "      <td>[{'id': 18, 'name': 'Drama'}, {'id': 10749, 'n...</td>\n",
       "      <td>NaN</td>\n",
       "      <td>843.0</td>\n",
       "      <td>cn</td>\n",
       "      <td>花樣年華</td>\n",
       "      <td>Two neighbors become intimate after discoverin...</td>\n",
       "      <td>...</td>\n",
       "      <td>12854953.0</td>\n",
       "      <td>99.0</td>\n",
       "      <td>[{'english_name': 'Cantonese', 'iso_639_1': 'c...</td>\n",
       "      <td>Released</td>\n",
       "      <td>Feel the heat, keep the feeling burning, let t...</td>\n",
       "      <td>In the Mood for Love</td>\n",
       "      <td>0.0</td>\n",
       "      <td>8.119</td>\n",
       "      <td>2204.0</td>\n",
       "      <td>PG</td>\n",
       "    </tr>\n",
       "  </tbody>\n",
       "</table>\n",
       "<p>5 rows × 25 columns</p>\n",
       "</div>"
      ],
      "text/plain": [
       "   adult                     backdrop_path belongs_to_collection      budget  \\\n",
       "0    NaN                               NaN                   NaN         NaN   \n",
       "1    0.0  /vMFs7nw6P0bIV1jDsQpxAieAVnH.jpg                   NaN  10000000.0   \n",
       "2    0.0                               NaN                   NaN         0.0   \n",
       "3    0.0                               NaN                   NaN         0.0   \n",
       "4    0.0  /n4GJFGzsc7NinI1VeGDXIcQjtU2.jpg                   NaN    150000.0   \n",
       "\n",
       "                                              genres homepage        id  \\\n",
       "0                                                NaN      NaN       NaN   \n",
       "1  [{'id': 35, 'name': 'Comedy'}, {'id': 10402, '...      NaN   62127.0   \n",
       "2           [{'id': 878, 'name': 'Science Fiction'}]      NaN  110977.0   \n",
       "3  [{'id': 18, 'name': 'Drama'}, {'id': 28, 'name...      NaN  442869.0   \n",
       "4  [{'id': 18, 'name': 'Drama'}, {'id': 10749, 'n...      NaN     843.0   \n",
       "\n",
       "  original_language   original_title  \\\n",
       "0               NaN              NaN   \n",
       "1                en  The Fantasticks   \n",
       "2                en    For the Cause   \n",
       "3                hi             Gang   \n",
       "4                cn             花樣年華   \n",
       "\n",
       "                                            overview  ...     revenue runtime  \\\n",
       "0                                                NaN  ...         NaN     NaN   \n",
       "1  Two rural teens sing and dance their way throu...  ...         0.0    86.0   \n",
       "2  Earth is in a state of constant war and two co...  ...         0.0   100.0   \n",
       "3  After falling prey to underworld, four friends...  ...         0.0   152.0   \n",
       "4  Two neighbors become intimate after discoverin...  ...  12854953.0    99.0   \n",
       "\n",
       "                                    spoken_languages    status  \\\n",
       "0                                                NaN       NaN   \n",
       "1  [{'english_name': 'English', 'iso_639_1': 'en'...  Released   \n",
       "2  [{'english_name': 'English', 'iso_639_1': 'en'...  Released   \n",
       "3  [{'english_name': 'Hindi', 'iso_639_1': 'hi', ...  Released   \n",
       "4  [{'english_name': 'Cantonese', 'iso_639_1': 'c...  Released   \n",
       "\n",
       "                                             tagline                 title  \\\n",
       "0                                                NaN                   NaN   \n",
       "1      Try to remember the first time magic happened       The Fantasticks   \n",
       "2       The ultimate showdown on a forbidden planet.         For the Cause   \n",
       "3                                                NaN                  Gang   \n",
       "4  Feel the heat, keep the feeling burning, let t...  In the Mood for Love   \n",
       "\n",
       "   video vote_average vote_count certification  \n",
       "0    NaN          NaN        NaN           NaN  \n",
       "1    0.0        5.500       22.0           NaN  \n",
       "2    0.0        5.100        8.0           NaN  \n",
       "3    0.0        4.000        1.0           NaN  \n",
       "4    0.0        8.119     2204.0            PG  \n",
       "\n",
       "[5 rows x 25 columns]"
      ]
     },
     "execution_count": 3,
     "metadata": {},
     "output_type": "execute_result"
    }
   ],
   "source": [
    "df = pd.read_csv(\"Data/tmdb_data.csv.gz\", lineterminator = \"\\n\")\n",
    "df.head()"
   ]
  },
  {
   "cell_type": "markdown",
   "id": "1e92174e",
   "metadata": {},
   "source": [
    "### Functions\n",
    "Various functions to assist in visualizations"
   ]
  },
  {
   "cell_type": "code",
   "execution_count": null,
   "id": "ad96fa22",
   "metadata": {},
   "outputs": [],
   "source": []
  },
  {
   "cell_type": "code",
   "execution_count": null,
   "id": "d94aa8f3",
   "metadata": {},
   "outputs": [],
   "source": []
  },
  {
   "cell_type": "markdown",
   "id": "c5b1af36",
   "metadata": {},
   "source": [
    "## Preliminary Data Cleaning\n",
    "\n",
    "This part of the notebook is meant to determine which columns/rows to drop if too much data is missing. All duplicates have been dropped in a prior notebook."
   ]
  },
  {
   "cell_type": "code",
   "execution_count": 4,
   "id": "b0eb4d75",
   "metadata": {},
   "outputs": [
    {
     "data": {
      "text/plain": [
       "(62809, 25)"
      ]
     },
     "execution_count": 4,
     "metadata": {},
     "output_type": "execute_result"
    }
   ],
   "source": [
    "df.shape"
   ]
  },
  {
   "cell_type": "code",
   "execution_count": 5,
   "id": "b6e56c4f",
   "metadata": {},
   "outputs": [
    {
     "data": {
      "text/plain": [
       "adult                        1\n",
       "backdrop_path            22291\n",
       "belongs_to_collection    58600\n",
       "budget                       1\n",
       "genres                       1\n",
       "homepage                 47721\n",
       "id                           1\n",
       "original_language            1\n",
       "original_title               1\n",
       "overview                  1337\n",
       "popularity                   1\n",
       "poster_path               4904\n",
       "production_companies         1\n",
       "production_countries         1\n",
       "release_date               953\n",
       "revenue                      1\n",
       "runtime                      1\n",
       "spoken_languages             1\n",
       "status                       1\n",
       "tagline                  38870\n",
       "title                        1\n",
       "video                        1\n",
       "vote_average                 1\n",
       "vote_count                   1\n",
       "certification            47627\n",
       "dtype: int64"
      ]
     },
     "execution_count": 5,
     "metadata": {},
     "output_type": "execute_result"
    }
   ],
   "source": [
    "#Checking for missing values\n",
    "df.isna().sum()"
   ]
  },
  {
   "cell_type": "code",
   "execution_count": 6,
   "id": "084903c6",
   "metadata": {
    "scrolled": true
   },
   "outputs": [
    {
     "data": {
      "text/plain": [
       "adult                     0.001592\n",
       "backdrop_path            35.490137\n",
       "belongs_to_collection    93.298731\n",
       "budget                    0.001592\n",
       "genres                    0.001592\n",
       "homepage                 75.977965\n",
       "id                        0.001592\n",
       "original_language         0.001592\n",
       "original_title            0.001592\n",
       "overview                  2.128676\n",
       "popularity                0.001592\n",
       "poster_path               7.807798\n",
       "production_companies      0.001592\n",
       "production_countries      0.001592\n",
       "release_date              1.517298\n",
       "revenue                   0.001592\n",
       "runtime                   0.001592\n",
       "spoken_languages          0.001592\n",
       "status                    0.001592\n",
       "tagline                  61.886035\n",
       "title                     0.001592\n",
       "video                     0.001592\n",
       "vote_average              0.001592\n",
       "vote_count                0.001592\n",
       "certification            75.828305\n",
       "dtype: float64"
      ]
     },
     "execution_count": 6,
     "metadata": {},
     "output_type": "execute_result"
    }
   ],
   "source": [
    "#Checking for missing values by percentage\n",
    "df.isna().sum()/len(df)* 100"
   ]
  },
  {
   "cell_type": "code",
   "execution_count": 7,
   "id": "02a7cdf5",
   "metadata": {
    "scrolled": true
   },
   "outputs": [
    {
     "data": {
      "text/plain": [
       "adult                     0.000000\n",
       "backdrop_path            35.489110\n",
       "belongs_to_collection    93.298624\n",
       "budget                    0.000000\n",
       "genres                    0.000000\n",
       "homepage                 75.977582\n",
       "id                        0.000000\n",
       "original_language         0.000000\n",
       "original_title            0.000000\n",
       "overview                  2.127118\n",
       "popularity                0.000000\n",
       "poster_path               7.806330\n",
       "production_companies      0.000000\n",
       "production_countries      0.000000\n",
       "release_date              1.515730\n",
       "revenue                   0.000000\n",
       "runtime                   0.000000\n",
       "spoken_languages          0.000000\n",
       "status                    0.000000\n",
       "tagline                  61.885429\n",
       "title                     0.000000\n",
       "video                     0.000000\n",
       "vote_average              0.000000\n",
       "vote_count                0.000000\n",
       "certification            75.827920\n",
       "dtype: float64"
      ]
     },
     "execution_count": 7,
     "metadata": {},
     "output_type": "execute_result"
    }
   ],
   "source": [
    "# Dropping \"adult\" column to see if that resolves majority of issues \n",
    "df = df.dropna(subset = \"adult\")\n",
    "\n",
    "df.isna().sum()/len(df)*100"
   ]
  },
  {
   "cell_type": "markdown",
   "id": "5972c2df",
   "metadata": {},
   "source": [
    "The vast majority of movies do not belong to a collection or have a homepage. We will remove those columns. Backdrop_path is the path to the \"backdrop\" of a movie and can also be removed safely. \n",
    "\n",
    "Certification (G, PG, PG-13, etc.) will be kept for now, but all missing values will be input as \"missing\""
   ]
  },
  {
   "cell_type": "code",
   "execution_count": 10,
   "id": "db999d2e",
   "metadata": {},
   "outputs": [
    {
     "data": {
      "text/plain": [
       "adult                    0.000000\n",
       "budget                   0.000000\n",
       "genres                   0.000000\n",
       "id                       0.000000\n",
       "original_language        0.000000\n",
       "original_title           0.000000\n",
       "overview                 2.127118\n",
       "popularity               0.000000\n",
       "poster_path              7.806330\n",
       "production_companies     0.000000\n",
       "production_countries     0.000000\n",
       "release_date             1.515730\n",
       "revenue                  0.000000\n",
       "runtime                  0.000000\n",
       "spoken_languages         0.000000\n",
       "status                   0.000000\n",
       "tagline                 61.885429\n",
       "title                    0.000000\n",
       "video                    0.000000\n",
       "vote_average             0.000000\n",
       "vote_count               0.000000\n",
       "certification           75.827920\n",
       "dtype: float64"
      ]
     },
     "execution_count": 10,
     "metadata": {},
     "output_type": "execute_result"
    }
   ],
   "source": [
    "df = df.drop(columns = [\"backdrop_path\", \"belongs_to_collection\", \"homepage\"])\n",
    "\n",
    "df.isna().sum()/len(df)*100"
   ]
  },
  {
   "cell_type": "markdown",
   "id": "6034fc6b",
   "metadata": {},
   "source": [
    "## Exploratory Data Analysis\n",
    "\n",
    "Predominantly univariate analyses"
   ]
  },
  {
   "cell_type": "code",
   "execution_count": null,
   "id": "1dec2a61",
   "metadata": {},
   "outputs": [],
   "source": []
  },
  {
   "cell_type": "code",
   "execution_count": null,
   "id": "04ab60dd",
   "metadata": {},
   "outputs": [],
   "source": []
  },
  {
   "cell_type": "code",
   "execution_count": null,
   "id": "80ed9a9c",
   "metadata": {},
   "outputs": [],
   "source": []
  },
  {
   "cell_type": "markdown",
   "id": "a7a15d62",
   "metadata": {},
   "source": [
    "## Explanatory Data Analysis\n",
    "\n",
    "Predominantly multivariate analyses"
   ]
  }
 ],
 "metadata": {
  "kernelspec": {
   "display_name": "Python 3 (ipykernel)",
   "language": "python",
   "name": "python3"
  },
  "language_info": {
   "codemirror_mode": {
    "name": "ipython",
    "version": 3
   },
   "file_extension": ".py",
   "mimetype": "text/x-python",
   "name": "python",
   "nbconvert_exporter": "python",
   "pygments_lexer": "ipython3",
   "version": "3.9.15"
  },
  "toc": {
   "base_numbering": 1,
   "nav_menu": {},
   "number_sections": false,
   "sideBar": true,
   "skip_h1_title": false,
   "title_cell": "Table of Contents",
   "title_sidebar": "Contents",
   "toc_cell": false,
   "toc_position": {},
   "toc_section_display": true,
   "toc_window_display": false
  }
 },
 "nbformat": 4,
 "nbformat_minor": 5
}
