{
 "cells": [
  {
   "cell_type": "markdown",
   "id": "d807e8d4",
   "metadata": {},
   "source": [
    "# IMDB Movie Exploratory Data Analysis"
   ]
  },
  {
   "cell_type": "markdown",
   "id": "74727297",
   "metadata": {},
   "source": [
    "## Library Importation and Data Loading"
   ]
  },
  {
   "cell_type": "code",
   "execution_count": 1,
   "id": "de97b720",
   "metadata": {},
   "outputs": [],
   "source": [
    "import numpy as np\n",
    "import pandas as pd\n",
    "\n",
    "import glob\n",
    "import seaborn as sns\n",
    "import matplotlib.pyplot as plt"
   ]
  },
  {
   "cell_type": "code",
   "execution_count": 2,
   "id": "e672103b",
   "metadata": {},
   "outputs": [],
   "source": [
    "#Setting pandas options to max column and row displays\n",
    "pd.set_option('display.max_columns', None) #Used for displaying columns\n",
    "pd.set_option('display.max_rows', None) #Used for displaying rows"
   ]
  },
  {
   "cell_type": "code",
   "execution_count": 3,
   "id": "952a8f7c",
   "metadata": {
    "scrolled": true
   },
   "outputs": [
    {
     "data": {
      "text/plain": [
       "['Data/final_tmdb_data_2000.csv.gz',\n",
       " 'Data/final_tmdb_data_2001.csv.gz',\n",
       " 'Data/final_tmdb_data_2002.csv.gz',\n",
       " 'Data/final_tmdb_data_2003.csv.gz',\n",
       " 'Data/final_tmdb_data_2004.csv.gz',\n",
       " 'Data/final_tmdb_data_2005.csv.gz',\n",
       " 'Data/final_tmdb_data_2006.csv.gz',\n",
       " 'Data/final_tmdb_data_2007.csv.gz',\n",
       " 'Data/final_tmdb_data_2008.csv.gz',\n",
       " 'Data/final_tmdb_data_2009.csv.gz',\n",
       " 'Data/final_tmdb_data_2010.csv.gz',\n",
       " 'Data/final_tmdb_data_2011.csv.gz',\n",
       " 'Data/final_tmdb_data_2012.csv.gz',\n",
       " 'Data/final_tmdb_data_2013.csv.gz',\n",
       " 'Data/final_tmdb_data_2014.csv.gz',\n",
       " 'Data/final_tmdb_data_2015.csv.gz',\n",
       " 'Data/final_tmdb_data_2016.csv.gz',\n",
       " 'Data/final_tmdb_data_2017.csv.gz',\n",
       " 'Data/final_tmdb_data_2018.csv.gz',\n",
       " 'Data/final_tmdb_data_2019.csv.gz',\n",
       " 'Data/final_tmdb_data_2020.csv.gz',\n",
       " 'Data/final_tmdb_data_2021.csv.gz',\n",
       " 'Data/final_tmdb_data_2022.csv.gz']"
      ]
     },
     "execution_count": 3,
     "metadata": {},
     "output_type": "execute_result"
    }
   ],
   "source": [
    "#Reading in all data as a glob\n",
    "query = \"Data/final_tmdb_data_*.csv.gz\"\n",
    "all_files = sorted(glob.glob(query))\n",
    "# Showing the first 5\n",
    "all_files"
   ]
  },
  {
   "cell_type": "code",
   "execution_count": null,
   "id": "ac3deaae",
   "metadata": {},
   "outputs": [],
   "source": [
    "#Loading all files into dfs and appending them to list\n",
    "#df_list = []\n",
    "#for file in all_files:\n",
    "#    temp_df = pd.read_csv(file, lineterminator='\\n')\n",
    "#    df_list.append(temp_df)\n",
    "    \n",
    "## Concatenating the list of dfs into 1 combined\n",
    "#df_combined = pd.concat(df_list, ignore_index = True)\n",
    "#df_combined"
   ]
  },
  {
   "cell_type": "code",
   "execution_count": null,
   "id": "b77f9310",
   "metadata": {},
   "outputs": [],
   "source": [
    "#Only needs to be done once\n",
    "\n",
    "#Saving data\n",
    "#df_combined.to_csv('Data/tmdb_results_combined.csv.gz', compression='gzip',index=False)"
   ]
  },
  {
   "cell_type": "code",
   "execution_count": null,
   "id": "e9c68827",
   "metadata": {},
   "outputs": [],
   "source": [
    "#Reading in data from 2000\n",
    "tmdbdata2000 = pd.read_csv(\"Data/final_tmdb_data_2000.csv.gz\")\n",
    "tmdbdata2000.head(2)"
   ]
  },
  {
   "cell_type": "code",
   "execution_count": null,
   "id": "3cec6beb",
   "metadata": {},
   "outputs": [],
   "source": [
    "#Reading in data from 2001\n",
    "tmdbdata2001 = pd.read_csv(\"Data/final_tmdb_data_2001.csv.gz\")\n",
    "tmdbdata2001.head(2)"
   ]
  },
  {
   "cell_type": "code",
   "execution_count": null,
   "id": "4abf2682",
   "metadata": {},
   "outputs": [],
   "source": [
    "#Only needs to be done once\n",
    "\n",
    "#concatenating data\n",
    "#results_combined = pd.concat([tmdbdata2000, tmdbdata2001], ignore_index = True)\n",
    "\n",
    "#loading in dataset\n",
    "results_combined = pd.read_csv(\"Data/tmdb_results_combined.csv.gz\")"
   ]
  },
  {
   "cell_type": "code",
   "execution_count": null,
   "id": "7743cc99",
   "metadata": {},
   "outputs": [],
   "source": [
    "results_combined.duplicated(subset='id').sum()"
   ]
  },
  {
   "cell_type": "code",
   "execution_count": null,
   "id": "02ec66fb",
   "metadata": {},
   "outputs": [],
   "source": [
    "results_combined.drop_duplicates(inplace = True)\n",
    "\n",
    "results_combined.duplicated(subset = \"id\").sum()"
   ]
  },
  {
   "cell_type": "code",
   "execution_count": null,
   "id": "571f813c",
   "metadata": {},
   "outputs": [],
   "source": [
    "#Only needs to be done once\n",
    "\n",
    "#Saving data\n",
    "#results_combined.to_csv('Data/tmdb_results_combined.csv.gz', compression='gzip',index=False)"
   ]
  },
  {
   "cell_type": "code",
   "execution_count": null,
   "id": "d4570189",
   "metadata": {},
   "outputs": [],
   "source": [
    "results_combined.info()"
   ]
  },
  {
   "cell_type": "markdown",
   "id": "f1c13fa4",
   "metadata": {},
   "source": [
    "## How many movies had at least some valid financial information (values > 0 for budget OR revenue)?"
   ]
  },
  {
   "cell_type": "code",
   "execution_count": null,
   "id": "1d60afd6",
   "metadata": {},
   "outputs": [],
   "source": [
    "results_combined "
   ]
  },
  {
   "cell_type": "code",
   "execution_count": null,
   "id": "0799f50f",
   "metadata": {},
   "outputs": [],
   "source": [
    "#function to determine if the budget AND revenue are both 0\n",
    "def financial_ternary(row):\n",
    "    if row[\"budget\"] == 0 and row[\"revenue\"] == 0:\n",
    "        return \"no\"\n",
    "    else: \n",
    "        return \"yes\"\n",
    "\n",
    "#applying function to dataframe\n",
    "results_combined[\"finances\"] = results_combined.apply(lambda row: financial_ternary(row), axis = 1)\n",
    "results_combined.head()"
   ]
  },
  {
   "cell_type": "code",
   "execution_count": null,
   "id": "03e4ce21",
   "metadata": {},
   "outputs": [],
   "source": [
    "sns.countplot(data = results_combined, x = \"finances\")\n",
    "\n",
    "plt.title(\"# Movies with financial budget or revenue data\")\n",
    "plt.xlabel(\"Has Budget or Revenue Data\")\n",
    "plt.ylabel(\"# Movies\")\n",
    "plt.grid(axis = \"y\")"
   ]
  },
  {
   "cell_type": "markdown",
   "id": "e88cd518",
   "metadata": {},
   "source": [
    "We can see that a significant portion of the data has neither budget nor revenue information."
   ]
  },
  {
   "cell_type": "code",
   "execution_count": null,
   "id": "f911831e",
   "metadata": {},
   "outputs": [],
   "source": [
    "#removing rows based off of it has financial data\n",
    "has_information = results_combined[\"finances\"] == \"yes\"\n",
    "results_combined = results_combined[has_information]\n",
    "results_combined"
   ]
  },
  {
   "cell_type": "markdown",
   "id": "e770e268",
   "metadata": {},
   "source": [
    "## How many movies are there in each of the certification categories (G/PG/PG-13/R)?\n",
    "\n",
    "Excluding any movies with 0's for budget AND revenue\n",
    "\n",
    "count plot"
   ]
  },
  {
   "cell_type": "code",
   "execution_count": null,
   "id": "1ac507cf",
   "metadata": {
    "scrolled": true
   },
   "outputs": [],
   "source": [
    "sns.countplot(data = results_combined, x = \"certification\")\n",
    "\n",
    "plt.title(\"Number Movies by Rating\")\n",
    "plt.xlabel(\"Movie Rating\")\n",
    "plt.ylabel(\"# Movies\")\n",
    "plt.grid(axis = \"y\")"
   ]
  },
  {
   "cell_type": "markdown",
   "id": "dd7042c5",
   "metadata": {},
   "source": [
    "We can see that there are over 200 movies rated R, roughly 125 movies rated PG-13, and less than 50 movies rated PG, G, or NR"
   ]
  },
  {
   "cell_type": "markdown",
   "id": "f7798f12",
   "metadata": {},
   "source": [
    "## What is the average revenue per certification category?\n",
    "\n",
    "Excluding any movies with 0's for budget AND revenue\n",
    "\n",
    "bar plot"
   ]
  },
  {
   "cell_type": "code",
   "execution_count": null,
   "id": "05f30ae4",
   "metadata": {
    "scrolled": true
   },
   "outputs": [],
   "source": [
    "sns.barplot(data = results_combined, x = \"certification\", y = \"revenue\")\n",
    "\n",
    "plt.title(\"Average Revenue per Movie Rating\")\n",
    "plt.xlabel(\"Movie Rating\")\n",
    "plt.ylabel(\"Average Revenue\")\n",
    "plt.grid(axis = \"y\")"
   ]
  },
  {
   "cell_type": "markdown",
   "id": "9b19ca8f",
   "metadata": {},
   "source": [
    "We can see here that movies rated PG, G, and PG-13 all have revenues greater than or equal to 10 million USD."
   ]
  },
  {
   "cell_type": "markdown",
   "id": "6e3b10f0",
   "metadata": {},
   "source": [
    "## What is the average budget per certification category?\n",
    "\n",
    "Excluding any movies with 0's for budget AND revenue\n",
    "\n",
    "bar plot"
   ]
  },
  {
   "cell_type": "code",
   "execution_count": null,
   "id": "757393c3",
   "metadata": {
    "scrolled": true
   },
   "outputs": [],
   "source": [
    "sns.barplot(data = results_combined, x = \"certification\", y = \"budget\")\n",
    "\n",
    "plt.title(\"Average Budget per Movie Rating\")\n",
    "plt.xlabel(\"Movie Rating\")\n",
    "plt.ylabel(\"Average Budget\")\n",
    "plt.grid(axis = \"y\")"
   ]
  },
  {
   "cell_type": "markdown",
   "id": "8ba1a218",
   "metadata": {},
   "source": [
    "We can see here that the average budget for PG and PG-13 movies is over 4 million USD"
   ]
  }
 ],
 "metadata": {
  "kernelspec": {
   "display_name": "Python 3 (ipykernel)",
   "language": "python",
   "name": "python3"
  },
  "language_info": {
   "codemirror_mode": {
    "name": "ipython",
    "version": 3
   },
   "file_extension": ".py",
   "mimetype": "text/x-python",
   "name": "python",
   "nbconvert_exporter": "python",
   "pygments_lexer": "ipython3",
   "version": "3.9.15"
  },
  "toc": {
   "base_numbering": 1,
   "nav_menu": {},
   "number_sections": false,
   "sideBar": true,
   "skip_h1_title": false,
   "title_cell": "Table of Contents",
   "title_sidebar": "Contents",
   "toc_cell": false,
   "toc_position": {},
   "toc_section_display": true,
   "toc_window_display": false
  }
 },
 "nbformat": 4,
 "nbformat_minor": 5
}
