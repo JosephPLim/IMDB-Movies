{
 "cells": [
  {
   "cell_type": "markdown",
   "id": "1dbedd2a",
   "metadata": {},
   "source": [
    "# Visualizations\n",
    "\n",
    "This notebook's purpose is to provide exploratory and explanatory data analysis of the dataset prior to any processing for machine learning."
   ]
  },
  {
   "cell_type": "markdown",
   "id": "73d02c81",
   "metadata": {},
   "source": [
    "## Library Importation, Folder Creation and Function Implementation"
   ]
  },
  {
   "cell_type": "code",
   "execution_count": null,
   "id": "981ff4c5",
   "metadata": {},
   "outputs": [],
   "source": [
    "#Importing numpy and pandas for basic data manipulation\n",
    "import numpy as np\n",
    "import pandas as pd\n",
    "\n",
    "#importing os for operating system interfacing\n",
    "import os\n",
    "\n",
    "#Importing matplotlib and seaborn for basic data visualization\n",
    "import matplotlib.pyplot as plt\n",
    "import seaborn as sns"
   ]
  },
  {
   "cell_type": "code",
   "execution_count": null,
   "id": "47868e94",
   "metadata": {},
   "outputs": [],
   "source": [
    "#Creating new folder for visuals\n",
    "vis_folder = \"Visualizations/\"\n",
    "os.makedirs(vis_folder, exist_ok=True)\n",
    "os.listdir(vis_folder)"
   ]
  },
  {
   "cell_type": "markdown",
   "id": "23950163",
   "metadata": {},
   "source": [
    "### Functions\n",
    "Various functions to assist in visualizations"
   ]
  },
  {
   "cell_type": "code",
   "execution_count": null,
   "id": "d72f4613",
   "metadata": {},
   "outputs": [],
   "source": []
  },
  {
   "cell_type": "code",
   "execution_count": null,
   "id": "e0f85926",
   "metadata": {},
   "outputs": [],
   "source": []
  },
  {
   "cell_type": "markdown",
   "id": "af67ce28",
   "metadata": {},
   "source": [
    "## Exploratory Data Analysis"
   ]
  },
  {
   "cell_type": "code",
   "execution_count": null,
   "id": "1bfdb9cb",
   "metadata": {},
   "outputs": [],
   "source": []
  },
  {
   "cell_type": "code",
   "execution_count": null,
   "id": "e710a394",
   "metadata": {},
   "outputs": [],
   "source": []
  },
  {
   "cell_type": "code",
   "execution_count": null,
   "id": "e57f12a1",
   "metadata": {},
   "outputs": [],
   "source": []
  },
  {
   "cell_type": "markdown",
   "id": "35576c46",
   "metadata": {},
   "source": [
    "## Explanatory Data Analysis"
   ]
  }
 ],
 "metadata": {
  "kernelspec": {
   "display_name": "Python 3 (ipykernel)",
   "language": "python",
   "name": "python3"
  },
  "language_info": {
   "codemirror_mode": {
    "name": "ipython",
    "version": 3
   },
   "file_extension": ".py",
   "mimetype": "text/x-python",
   "name": "python",
   "nbconvert_exporter": "python",
   "pygments_lexer": "ipython3",
   "version": "3.9.15"
  },
  "toc": {
   "base_numbering": 1,
   "nav_menu": {},
   "number_sections": false,
   "sideBar": true,
   "skip_h1_title": false,
   "title_cell": "Table of Contents",
   "title_sidebar": "Contents",
   "toc_cell": false,
   "toc_position": {},
   "toc_section_display": true,
   "toc_window_display": false
  }
 },
 "nbformat": 4,
 "nbformat_minor": 5
}
