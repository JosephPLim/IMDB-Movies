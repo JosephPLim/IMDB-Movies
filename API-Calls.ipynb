{
 "cells": [
  {
   "cell_type": "markdown",
   "id": "03d8677f",
   "metadata": {},
   "source": [
    "# API Calls\n",
    "\n",
    "This notebook's purpose is to make calls to The Movie DataBase via TMDB's API in order to create yearly datasets from 2000-2022 inclusive."
   ]
  },
  {
   "cell_type": "markdown",
   "id": "4aaf9068",
   "metadata": {},
   "source": [
    "## Library Importation, Folder Creation, Function Implementation"
   ]
  },
  {
   "cell_type": "code",
   "execution_count": 1,
   "id": "b3296a3c",
   "metadata": {},
   "outputs": [],
   "source": [
    "#run this if you don't already have tmdbsimple on your computer\n",
    "#!pip install tmdbsimple"
   ]
  },
  {
   "cell_type": "code",
   "execution_count": 2,
   "id": "67bba4e3",
   "metadata": {},
   "outputs": [],
   "source": [
    "#Basic numpy and pandas for data manipulation\n",
    "import numpy as np\n",
    "import pandas as pd\n",
    "\n",
    "#Importing os, json to interface with operating system\n",
    "#importing time to measure time\n",
    "import os, time,json\n",
    "\n",
    "#importing tmdbsimple to interface with TMDB\n",
    "import tmdbsimple as tmdb\n",
    "\n",
    "#Importing tqdm notebook for progress bars\n",
    "from tqdm.notebook import tqdm_notebook\n",
    "\n",
    "#Importing glob for making large dataset later on\n",
    "import glob"
   ]
  },
  {
   "cell_type": "code",
   "execution_count": 3,
   "id": "e4b2ab19",
   "metadata": {
    "scrolled": true
   },
   "outputs": [
    {
     "data": {
      "text/plain": [
       "['API-Calls.ipynb',\n",
       " 'Hypothesis-Testing.ipynb',\n",
       " 'LICENSE',\n",
       " 'IMDB-Movies-To-SQL.ipynb',\n",
       " 'README.md',\n",
       " 'Data-Importation-And-Cleaning.ipynb',\n",
       " '.gitattributes',\n",
       " '.ipynb_checkpoints',\n",
       " '.git',\n",
       " 'Data',\n",
       " 'Visualizations.ipynb']"
      ]
     },
     "execution_count": 3,
     "metadata": {},
     "output_type": "execute_result"
    }
   ],
   "source": [
    "#Checking what folders already exist\n",
    "os.listdir(\".\")"
   ]
  },
  {
   "cell_type": "code",
   "execution_count": 4,
   "id": "d6c3fcf5",
   "metadata": {},
   "outputs": [
    {
     "data": {
      "text/plain": [
       "['title_names.csv.gz',\n",
       " 'tmdb_data',\n",
       " 'title_basics.csv.gz',\n",
       " 'title_crew.csv.gz',\n",
       " '.ipynb_checkpoints',\n",
       " 'title_akas.csv.gz',\n",
       " 'title_principals.csv.gz',\n",
       " 'title_ratings.csv.gz']"
      ]
     },
     "execution_count": 4,
     "metadata": {},
     "output_type": "execute_result"
    }
   ],
   "source": [
    "#Checking what folders exist in \"Data\"\n",
    "os.listdir(\"Data/\")"
   ]
  },
  {
   "cell_type": "code",
   "execution_count": 5,
   "id": "5c531a06",
   "metadata": {},
   "outputs": [
    {
     "data": {
      "text/plain": [
       "['final_tmdb_data_2006.csv.gz',\n",
       " 'tmdb_api_results_2010.json',\n",
       " 'final_tmdb_data_2018.csv.gz',\n",
       " 'final_tmdb_data_2014.csv.gz',\n",
       " 'tmdb_api_results_2006.json',\n",
       " 'final_tmdb_data_2022.csv.gz',\n",
       " 'final_tmdb_data_2008.csv.gz',\n",
       " 'final_tmdb_data_2016.csv.gz',\n",
       " 'final_tmdb_data_2004.csv.gz',\n",
       " 'tmdb_api_results_2007.json',\n",
       " 'final_tmdb_data_2020.csv.gz',\n",
       " 'tmdb_api_results_2011.json',\n",
       " 'tmdb_api_results_2020.json',\n",
       " 'tmdb_api_results_2016.json',\n",
       " 'tmdb_api_results_2000.json',\n",
       " 'final_tmdb_data_2000.csv.gz',\n",
       " 'final_tmdb_data_2012.csv.gz',\n",
       " 'tmdb_api_results_2001.json',\n",
       " 'final_tmdb_data_2010.csv.gz',\n",
       " 'final_tmdb_data_2002.csv.gz',\n",
       " 'tmdb_api_results_2017.json',\n",
       " 'tmdb_api_results_2021.json',\n",
       " 'tmdb_api_results_2022.json',\n",
       " 'tmdb_api_results_2018.json',\n",
       " 'tmdb_api_results_2002.json',\n",
       " 'final_tmdb_data_2019.csv.gz',\n",
       " 'final_tmdb_data_2007.csv.gz',\n",
       " 'tmdb_api_results_2014.json',\n",
       " 'final_tmdb_data_2015.csv.gz',\n",
       " 'tmdb_api_results_2015.json',\n",
       " 'final_tmdb_data_2021.csv.gz',\n",
       " 'tmdb_api_results_2003.json',\n",
       " 'final_tmdb_data_2017.csv.gz',\n",
       " 'final_tmdb_data_2009.csv.gz',\n",
       " 'final_tmdb_data_2005.csv.gz',\n",
       " 'tmdb_api_results_2019.json',\n",
       " 'final_tmdb_data_2001.csv.gz',\n",
       " 'final_tmdb_data_2013.csv.gz',\n",
       " 'tmdb_api_results_2004.json',\n",
       " 'tmdb_api_results_2012.json',\n",
       " 'tmdb_api_results_2008.json',\n",
       " 'tmdb_api_results_2009.json',\n",
       " 'tmdb_api_results_2013.json',\n",
       " 'final_tmdb_data_2011.csv.gz',\n",
       " 'final_tmdb_data_2003.csv.gz',\n",
       " 'tmdb_api_results_2005.json']"
      ]
     },
     "execution_count": 5,
     "metadata": {},
     "output_type": "execute_result"
    }
   ],
   "source": [
    "#Creating new folder for tmdb data in Data flder\n",
    "tmdb_folder = \"Data/tmdb_data/\"\n",
    "os.makedirs(tmdb_folder, exist_ok=True)\n",
    "os.listdir(tmdb_folder)"
   ]
  },
  {
   "cell_type": "code",
   "execution_count": 3,
   "id": "5092b50f",
   "metadata": {},
   "outputs": [],
   "source": [
    "#Setting pandas options to max column and row displays\n",
    "pd.set_option('display.max_columns', None) #Used for displaying columns\n",
    "pd.set_option('display.max_rows', None) #Used for displaying rows"
   ]
  },
  {
   "cell_type": "markdown",
   "id": "9ad260b4",
   "metadata": {
    "heading_collapsed": true
   },
   "source": [
    "### Functions\n",
    "\n",
    "Various functions for assisting in fetching data, taken from multiple sources (as credited)."
   ]
  },
  {
   "cell_type": "markdown",
   "id": "04d3270d",
   "metadata": {
    "heading_collapsed": true,
    "hidden": true
   },
   "source": [
    "#### Function for getting a movie with rating\n",
    "\n",
    "Copied from [Celia Oakley's Github](github.com/celiao/tmdbsimple)"
   ]
  },
  {
   "cell_type": "code",
   "execution_count": null,
   "id": "fc13c946",
   "metadata": {
    "hidden": true
   },
   "outputs": [],
   "source": [
    "def get_movie_with_rating(movie_id):\n",
    "    \"\"\"adapted from github.com/celiao/tmdbsimple\"\"\"\n",
    "    #Get the movie object associated with movie_id\n",
    "    movie = tmdb.Movies(movie_id)\n",
    "    \n",
    "    #save the .info and .releases dictionaries\n",
    "    info = movie.info()\n",
    "    releases = movie.releases()\n",
    "    \n",
    "    #Loop through the countries in releases\n",
    "    for country in releases[\"countries\"]:\n",
    "        if country[\"iso_3166_1\"] == \"US\":\n",
    "            info[\"certification\"] = country[\"certification\"]\n",
    "    return info"
   ]
  },
  {
   "cell_type": "markdown",
   "id": "2c29e891",
   "metadata": {
    "heading_collapsed": true,
    "hidden": true
   },
   "source": [
    "#### Function for writing json files\n",
    "\n",
    "Adapted from [geeksforgeeks.org](https://www.geeksforgeeks.org/append-to-json-file-using-python/)"
   ]
  },
  {
   "cell_type": "code",
   "execution_count": null,
   "id": "91a016f5",
   "metadata": {
    "hidden": true
   },
   "outputs": [],
   "source": [
    "def write_json(new_data, filename): \n",
    "    \"\"\"Appends a list of records (new_data) to a json file (filename). \n",
    "    \"\"\"  \n",
    "    \n",
    "    with open(filename,'r+') as file:\n",
    "        # First we load existing data into a dict.\n",
    "        file_data = json.load(file)\n",
    "        ## Choose extend or append\n",
    "        if (type(new_data) == list) & (type(file_data) == list):\n",
    "            file_data.extend(new_data)\n",
    "        else:\n",
    "             file_data.append(new_data)\n",
    "        # Sets file's current position at offset.\n",
    "        file.seek(0)\n",
    "        # convert back to json.\n",
    "        json.dump(file_data, file)"
   ]
  },
  {
   "cell_type": "markdown",
   "id": "b068941f",
   "metadata": {
    "heading_collapsed": true
   },
   "source": [
    "## Extracting data from TMDB"
   ]
  },
  {
   "cell_type": "code",
   "execution_count": null,
   "id": "b5af9533",
   "metadata": {
    "hidden": true,
    "scrolled": true
   },
   "outputs": [],
   "source": [
    "basics = pd.read_csv(\"Data/title_basics.csv.gz\")\n",
    "basics.head()"
   ]
  },
  {
   "cell_type": "code",
   "execution_count": null,
   "id": "36198112",
   "metadata": {
    "hidden": true
   },
   "outputs": [],
   "source": [
    "with open('/Users/joseph/.secret/tmdb_api.json', 'r') as f:\n",
    "    login = json.load(f)\n",
    "## Display the keys of the loaded dict\n",
    "login.keys()"
   ]
  },
  {
   "cell_type": "code",
   "execution_count": null,
   "id": "2d3fde30",
   "metadata": {
    "hidden": true
   },
   "outputs": [],
   "source": [
    "tmdb.API_KEY =  login['api-key']"
   ]
  },
  {
   "cell_type": "code",
   "execution_count": null,
   "id": "7dbcb857",
   "metadata": {
    "hidden": true,
    "scrolled": true
   },
   "outputs": [],
   "source": [
    "#Testing ids to make sure everything is working\n",
    "test_ids = [\"tt0848228\", \"tt0332280\"]\n",
    "results = []\n",
    "errors = []\n",
    "for movie_id in test_ids:\n",
    "    \n",
    "    try:\n",
    "        movie_info = get_movie_with_rating(movie_id)\n",
    "        results.append(movie_info)\n",
    "        \n",
    "    except Exception as e: \n",
    "        errors.append([movie_id, e])\n",
    "    \n",
    "pd.DataFrame(results)"
   ]
  },
  {
   "cell_type": "code",
   "execution_count": null,
   "id": "5af1e687",
   "metadata": {
    "hidden": true
   },
   "outputs": [],
   "source": [
    "#Creating list of years to search through\n",
    "YEARS_TO_GET = list(range(2000, 2023))\n",
    "errors = [ ]\n",
    "YEARS_TO_GET"
   ]
  },
  {
   "cell_type": "code",
   "execution_count": null,
   "id": "f4cf2102",
   "metadata": {
    "hidden": true
   },
   "outputs": [],
   "source": [
    "for YEAR in tqdm_notebook(YEARS_TO_GET, desc = \"YEARS\", position=0):\n",
    "    #Defining the JSON file to store results for year\n",
    "    JSON_FILE = f'{tmdb_folder}tmdb_api_results_{YEAR}.json'\n",
    "    # Check if file exists\n",
    "    file_exists = os.path.isfile(JSON_FILE)\n",
    "    # If it does not exist: create it\n",
    "    if file_exists == False:\n",
    "        # save an empty dict with just \"imdb_id\" to the new json file.\n",
    "        with open(JSON_FILE, \"w\") as f:\n",
    "            json.dump([{\"imdb_id\":0}],f)\n",
    "\n",
    "    #Saving new year as the current df\n",
    "    df = basics.loc[ basics[\"startYear\"] == YEAR].copy()\n",
    "    # saving movie ids to list\n",
    "    movie_ids = df[\"tconst\"].copy()\n",
    "\n",
    "    # Load existing data from json into a dataframe called \"previous_df\"\n",
    "    previous_df = pd.read_json(JSON_FILE)\n",
    "\n",
    "    # filter out any ids that are already in the JSON_FILE\n",
    "    movie_ids_to_get = movie_ids[~movie_ids.isin(previous_df[\"imdb_id\"])]\n",
    "\n",
    "    #Get index and movie id from list\n",
    "    # INNER Loop\n",
    "    for movie_id in tqdm_notebook(movie_ids_to_get,\n",
    "                                  desc=f'Movies from {YEAR}',\n",
    "                                  position=1,\n",
    "                                  leave=True):\n",
    "        try:\n",
    "            # Retrieve then data for the movie id\n",
    "            temp = get_movie_with_rating(movie_id)  \n",
    "            # Append/extend results to existing file using a pre-made function\n",
    "            write_json(temp,JSON_FILE)\n",
    "            # Short 20 ms sleep to prevent overwhelming server\n",
    "            time.sleep(0.02)\n",
    "            \n",
    "        except Exception as e:\n",
    "            errors.append([movie_id, e])\n",
    "\n",
    "    final_year_df = pd.read_json(JSON_FILE)\n",
    "    final_year_df.to_csv(f\"{tmdb_folder}final_tmdb_data_{YEAR}.csv.gz\", compression=\"gzip\", index=False)"
   ]
  },
  {
   "cell_type": "code",
   "execution_count": null,
   "id": "7f21ac97",
   "metadata": {
    "hidden": true
   },
   "outputs": [],
   "source": [
    "print(f\"- Total errors: {len(errors)}\")"
   ]
  },
  {
   "cell_type": "markdown",
   "id": "ddd8079f",
   "metadata": {},
   "source": [
    "## Concatenating Data\n",
    "Pulling all tmdb data into one large .csv.gz file"
   ]
  },
  {
   "cell_type": "code",
   "execution_count": 6,
   "id": "5ece9bc0",
   "metadata": {},
   "outputs": [
    {
     "data": {
      "text/plain": [
       "['Data/tmdb_data/final_tmdb_data_2000.csv.gz',\n",
       " 'Data/tmdb_data/final_tmdb_data_2001.csv.gz',\n",
       " 'Data/tmdb_data/final_tmdb_data_2002.csv.gz',\n",
       " 'Data/tmdb_data/final_tmdb_data_2003.csv.gz',\n",
       " 'Data/tmdb_data/final_tmdb_data_2004.csv.gz',\n",
       " 'Data/tmdb_data/final_tmdb_data_2005.csv.gz',\n",
       " 'Data/tmdb_data/final_tmdb_data_2006.csv.gz',\n",
       " 'Data/tmdb_data/final_tmdb_data_2007.csv.gz',\n",
       " 'Data/tmdb_data/final_tmdb_data_2008.csv.gz',\n",
       " 'Data/tmdb_data/final_tmdb_data_2009.csv.gz',\n",
       " 'Data/tmdb_data/final_tmdb_data_2010.csv.gz',\n",
       " 'Data/tmdb_data/final_tmdb_data_2011.csv.gz',\n",
       " 'Data/tmdb_data/final_tmdb_data_2012.csv.gz',\n",
       " 'Data/tmdb_data/final_tmdb_data_2013.csv.gz',\n",
       " 'Data/tmdb_data/final_tmdb_data_2014.csv.gz',\n",
       " 'Data/tmdb_data/final_tmdb_data_2015.csv.gz',\n",
       " 'Data/tmdb_data/final_tmdb_data_2016.csv.gz',\n",
       " 'Data/tmdb_data/final_tmdb_data_2017.csv.gz',\n",
       " 'Data/tmdb_data/final_tmdb_data_2018.csv.gz',\n",
       " 'Data/tmdb_data/final_tmdb_data_2019.csv.gz',\n",
       " 'Data/tmdb_data/final_tmdb_data_2020.csv.gz',\n",
       " 'Data/tmdb_data/final_tmdb_data_2021.csv.gz',\n",
       " 'Data/tmdb_data/final_tmdb_data_2022.csv.gz']"
      ]
     },
     "execution_count": 6,
     "metadata": {},
     "output_type": "execute_result"
    }
   ],
   "source": [
    "#Creating query to feed to glob to get all tmdb files\n",
    "q = \"Data/tmdb_data/*.csv.gz\"\n",
    "all_tmdb_files = sorted(glob.glob(q))\n",
    "all_tmdb_files"
   ]
  },
  {
   "cell_type": "code",
   "execution_count": 7,
   "id": "0e33eb2f",
   "metadata": {},
   "outputs": [],
   "source": [
    "# Loading all tmdb files as df's and appending to a list\n",
    "df_list = []\n",
    "for file in all_tmdb_files:\n",
    "    temp_df = pd.read_csv(file, lineterminator = \"\\n\", index_col=0)\n",
    "    df_list.append(temp_df)"
   ]
  },
  {
   "cell_type": "code",
   "execution_count": 8,
   "id": "fa1fc795",
   "metadata": {
    "scrolled": true
   },
   "outputs": [
    {
     "data": {
      "text/html": [
       "<div>\n",
       "<style scoped>\n",
       "    .dataframe tbody tr th:only-of-type {\n",
       "        vertical-align: middle;\n",
       "    }\n",
       "\n",
       "    .dataframe tbody tr th {\n",
       "        vertical-align: top;\n",
       "    }\n",
       "\n",
       "    .dataframe thead th {\n",
       "        text-align: right;\n",
       "    }\n",
       "</style>\n",
       "<table border=\"1\" class=\"dataframe\">\n",
       "  <thead>\n",
       "    <tr style=\"text-align: right;\">\n",
       "      <th></th>\n",
       "      <th>adult</th>\n",
       "      <th>backdrop_path</th>\n",
       "      <th>belongs_to_collection</th>\n",
       "      <th>budget</th>\n",
       "      <th>genres</th>\n",
       "      <th>homepage</th>\n",
       "      <th>id</th>\n",
       "      <th>original_language</th>\n",
       "      <th>original_title</th>\n",
       "      <th>overview</th>\n",
       "      <th>popularity</th>\n",
       "      <th>poster_path</th>\n",
       "      <th>production_companies</th>\n",
       "      <th>production_countries</th>\n",
       "      <th>release_date</th>\n",
       "      <th>revenue</th>\n",
       "      <th>runtime</th>\n",
       "      <th>spoken_languages</th>\n",
       "      <th>status</th>\n",
       "      <th>tagline</th>\n",
       "      <th>title</th>\n",
       "      <th>video</th>\n",
       "      <th>vote_average</th>\n",
       "      <th>vote_count</th>\n",
       "      <th>certification</th>\n",
       "    </tr>\n",
       "    <tr>\n",
       "      <th>imdb_id</th>\n",
       "      <th></th>\n",
       "      <th></th>\n",
       "      <th></th>\n",
       "      <th></th>\n",
       "      <th></th>\n",
       "      <th></th>\n",
       "      <th></th>\n",
       "      <th></th>\n",
       "      <th></th>\n",
       "      <th></th>\n",
       "      <th></th>\n",
       "      <th></th>\n",
       "      <th></th>\n",
       "      <th></th>\n",
       "      <th></th>\n",
       "      <th></th>\n",
       "      <th></th>\n",
       "      <th></th>\n",
       "      <th></th>\n",
       "      <th></th>\n",
       "      <th></th>\n",
       "      <th></th>\n",
       "      <th></th>\n",
       "      <th></th>\n",
       "      <th></th>\n",
       "    </tr>\n",
       "  </thead>\n",
       "  <tbody>\n",
       "    <tr>\n",
       "      <th>0</th>\n",
       "      <td>NaN</td>\n",
       "      <td>NaN</td>\n",
       "      <td>NaN</td>\n",
       "      <td>NaN</td>\n",
       "      <td>NaN</td>\n",
       "      <td>NaN</td>\n",
       "      <td>NaN</td>\n",
       "      <td>NaN</td>\n",
       "      <td>NaN</td>\n",
       "      <td>NaN</td>\n",
       "      <td>NaN</td>\n",
       "      <td>NaN</td>\n",
       "      <td>NaN</td>\n",
       "      <td>NaN</td>\n",
       "      <td>NaN</td>\n",
       "      <td>NaN</td>\n",
       "      <td>NaN</td>\n",
       "      <td>NaN</td>\n",
       "      <td>NaN</td>\n",
       "      <td>NaN</td>\n",
       "      <td>NaN</td>\n",
       "      <td>NaN</td>\n",
       "      <td>NaN</td>\n",
       "      <td>NaN</td>\n",
       "      <td>NaN</td>\n",
       "    </tr>\n",
       "    <tr>\n",
       "      <th>tt0113026</th>\n",
       "      <td>0.0</td>\n",
       "      <td>/vMFs7nw6P0bIV1jDsQpxAieAVnH.jpg</td>\n",
       "      <td>NaN</td>\n",
       "      <td>10000000.0</td>\n",
       "      <td>[{'id': 35, 'name': 'Comedy'}, {'id': 10402, '...</td>\n",
       "      <td>NaN</td>\n",
       "      <td>62127.0</td>\n",
       "      <td>en</td>\n",
       "      <td>The Fantasticks</td>\n",
       "      <td>Two rural teens sing and dance their way throu...</td>\n",
       "      <td>2.519</td>\n",
       "      <td>/hfO64mXz3DgUxkBVU7no2UWRP7x.jpg</td>\n",
       "      <td>[{'id': 51207, 'logo_path': None, 'name': 'Sul...</td>\n",
       "      <td>[{'iso_3166_1': 'US', 'name': 'United States o...</td>\n",
       "      <td>2000-09-22</td>\n",
       "      <td>0.0</td>\n",
       "      <td>86.0</td>\n",
       "      <td>[{'english_name': 'English', 'iso_639_1': 'en'...</td>\n",
       "      <td>Released</td>\n",
       "      <td>Try to remember the first time magic happened</td>\n",
       "      <td>The Fantasticks</td>\n",
       "      <td>0.0</td>\n",
       "      <td>5.500</td>\n",
       "      <td>22.0</td>\n",
       "      <td>NaN</td>\n",
       "    </tr>\n",
       "    <tr>\n",
       "      <th>tt0113092</th>\n",
       "      <td>0.0</td>\n",
       "      <td>NaN</td>\n",
       "      <td>NaN</td>\n",
       "      <td>0.0</td>\n",
       "      <td>[{'id': 878, 'name': 'Science Fiction'}]</td>\n",
       "      <td>NaN</td>\n",
       "      <td>110977.0</td>\n",
       "      <td>en</td>\n",
       "      <td>For the Cause</td>\n",
       "      <td>Earth is in a state of constant war and two co...</td>\n",
       "      <td>1.592</td>\n",
       "      <td>/h9bWO13nWRGZJo4XVPiElXyrRMU.jpg</td>\n",
       "      <td>[{'id': 7405, 'logo_path': '/rfnws0uY8rsNAsrLb...</td>\n",
       "      <td>[{'iso_3166_1': 'US', 'name': 'United States o...</td>\n",
       "      <td>2000-11-15</td>\n",
       "      <td>0.0</td>\n",
       "      <td>100.0</td>\n",
       "      <td>[{'english_name': 'English', 'iso_639_1': 'en'...</td>\n",
       "      <td>Released</td>\n",
       "      <td>The ultimate showdown on a forbidden planet.</td>\n",
       "      <td>For the Cause</td>\n",
       "      <td>0.0</td>\n",
       "      <td>5.100</td>\n",
       "      <td>8.0</td>\n",
       "      <td>NaN</td>\n",
       "    </tr>\n",
       "    <tr>\n",
       "      <th>tt0116391</th>\n",
       "      <td>0.0</td>\n",
       "      <td>NaN</td>\n",
       "      <td>NaN</td>\n",
       "      <td>0.0</td>\n",
       "      <td>[{'id': 18, 'name': 'Drama'}, {'id': 28, 'name...</td>\n",
       "      <td>NaN</td>\n",
       "      <td>442869.0</td>\n",
       "      <td>hi</td>\n",
       "      <td>Gang</td>\n",
       "      <td>After falling prey to underworld, four friends...</td>\n",
       "      <td>0.655</td>\n",
       "      <td>/yB5wRu4uyXXwZA3PEj8cITu0xt3.jpg</td>\n",
       "      <td>[]</td>\n",
       "      <td>[{'iso_3166_1': 'IN', 'name': 'India'}]</td>\n",
       "      <td>2000-04-14</td>\n",
       "      <td>0.0</td>\n",
       "      <td>152.0</td>\n",
       "      <td>[{'english_name': 'Hindi', 'iso_639_1': 'hi', ...</td>\n",
       "      <td>Released</td>\n",
       "      <td>NaN</td>\n",
       "      <td>Gang</td>\n",
       "      <td>0.0</td>\n",
       "      <td>4.000</td>\n",
       "      <td>1.0</td>\n",
       "      <td>NaN</td>\n",
       "    </tr>\n",
       "    <tr>\n",
       "      <th>tt0118694</th>\n",
       "      <td>0.0</td>\n",
       "      <td>/n4GJFGzsc7NinI1VeGDXIcQjtU2.jpg</td>\n",
       "      <td>NaN</td>\n",
       "      <td>150000.0</td>\n",
       "      <td>[{'id': 18, 'name': 'Drama'}, {'id': 10749, 'n...</td>\n",
       "      <td>NaN</td>\n",
       "      <td>843.0</td>\n",
       "      <td>cn</td>\n",
       "      <td>花樣年華</td>\n",
       "      <td>Two neighbors become intimate after discoverin...</td>\n",
       "      <td>21.766</td>\n",
       "      <td>/iYypPT4bhqXfq1b6EnmxvRt6b2Y.jpg</td>\n",
       "      <td>[{'id': 539, 'logo_path': '/iPLtePguIzOPNtAWfT...</td>\n",
       "      <td>[{'iso_3166_1': 'FR', 'name': 'France'}, {'iso...</td>\n",
       "      <td>2000-09-29</td>\n",
       "      <td>12854953.0</td>\n",
       "      <td>99.0</td>\n",
       "      <td>[{'english_name': 'Cantonese', 'iso_639_1': 'c...</td>\n",
       "      <td>Released</td>\n",
       "      <td>Feel the heat, keep the feeling burning, let t...</td>\n",
       "      <td>In the Mood for Love</td>\n",
       "      <td>0.0</td>\n",
       "      <td>8.119</td>\n",
       "      <td>2204.0</td>\n",
       "      <td>PG</td>\n",
       "    </tr>\n",
       "  </tbody>\n",
       "</table>\n",
       "</div>"
      ],
      "text/plain": [
       "           adult                     backdrop_path belongs_to_collection  \\\n",
       "imdb_id                                                                    \n",
       "0            NaN                               NaN                   NaN   \n",
       "tt0113026    0.0  /vMFs7nw6P0bIV1jDsQpxAieAVnH.jpg                   NaN   \n",
       "tt0113092    0.0                               NaN                   NaN   \n",
       "tt0116391    0.0                               NaN                   NaN   \n",
       "tt0118694    0.0  /n4GJFGzsc7NinI1VeGDXIcQjtU2.jpg                   NaN   \n",
       "\n",
       "               budget                                             genres  \\\n",
       "imdb_id                                                                    \n",
       "0                 NaN                                                NaN   \n",
       "tt0113026  10000000.0  [{'id': 35, 'name': 'Comedy'}, {'id': 10402, '...   \n",
       "tt0113092         0.0           [{'id': 878, 'name': 'Science Fiction'}]   \n",
       "tt0116391         0.0  [{'id': 18, 'name': 'Drama'}, {'id': 28, 'name...   \n",
       "tt0118694    150000.0  [{'id': 18, 'name': 'Drama'}, {'id': 10749, 'n...   \n",
       "\n",
       "          homepage        id original_language   original_title  \\\n",
       "imdb_id                                                           \n",
       "0              NaN       NaN               NaN              NaN   \n",
       "tt0113026      NaN   62127.0                en  The Fantasticks   \n",
       "tt0113092      NaN  110977.0                en    For the Cause   \n",
       "tt0116391      NaN  442869.0                hi             Gang   \n",
       "tt0118694      NaN     843.0                cn             花樣年華   \n",
       "\n",
       "                                                    overview  popularity  \\\n",
       "imdb_id                                                                    \n",
       "0                                                        NaN         NaN   \n",
       "tt0113026  Two rural teens sing and dance their way throu...       2.519   \n",
       "tt0113092  Earth is in a state of constant war and two co...       1.592   \n",
       "tt0116391  After falling prey to underworld, four friends...       0.655   \n",
       "tt0118694  Two neighbors become intimate after discoverin...      21.766   \n",
       "\n",
       "                                poster_path  \\\n",
       "imdb_id                                       \n",
       "0                                       NaN   \n",
       "tt0113026  /hfO64mXz3DgUxkBVU7no2UWRP7x.jpg   \n",
       "tt0113092  /h9bWO13nWRGZJo4XVPiElXyrRMU.jpg   \n",
       "tt0116391  /yB5wRu4uyXXwZA3PEj8cITu0xt3.jpg   \n",
       "tt0118694  /iYypPT4bhqXfq1b6EnmxvRt6b2Y.jpg   \n",
       "\n",
       "                                        production_companies  \\\n",
       "imdb_id                                                        \n",
       "0                                                        NaN   \n",
       "tt0113026  [{'id': 51207, 'logo_path': None, 'name': 'Sul...   \n",
       "tt0113092  [{'id': 7405, 'logo_path': '/rfnws0uY8rsNAsrLb...   \n",
       "tt0116391                                                 []   \n",
       "tt0118694  [{'id': 539, 'logo_path': '/iPLtePguIzOPNtAWfT...   \n",
       "\n",
       "                                        production_countries release_date  \\\n",
       "imdb_id                                                                     \n",
       "0                                                        NaN          NaN   \n",
       "tt0113026  [{'iso_3166_1': 'US', 'name': 'United States o...   2000-09-22   \n",
       "tt0113092  [{'iso_3166_1': 'US', 'name': 'United States o...   2000-11-15   \n",
       "tt0116391            [{'iso_3166_1': 'IN', 'name': 'India'}]   2000-04-14   \n",
       "tt0118694  [{'iso_3166_1': 'FR', 'name': 'France'}, {'iso...   2000-09-29   \n",
       "\n",
       "              revenue  runtime  \\\n",
       "imdb_id                          \n",
       "0                 NaN      NaN   \n",
       "tt0113026         0.0     86.0   \n",
       "tt0113092         0.0    100.0   \n",
       "tt0116391         0.0    152.0   \n",
       "tt0118694  12854953.0     99.0   \n",
       "\n",
       "                                            spoken_languages    status  \\\n",
       "imdb_id                                                                  \n",
       "0                                                        NaN       NaN   \n",
       "tt0113026  [{'english_name': 'English', 'iso_639_1': 'en'...  Released   \n",
       "tt0113092  [{'english_name': 'English', 'iso_639_1': 'en'...  Released   \n",
       "tt0116391  [{'english_name': 'Hindi', 'iso_639_1': 'hi', ...  Released   \n",
       "tt0118694  [{'english_name': 'Cantonese', 'iso_639_1': 'c...  Released   \n",
       "\n",
       "                                                     tagline  \\\n",
       "imdb_id                                                        \n",
       "0                                                        NaN   \n",
       "tt0113026      Try to remember the first time magic happened   \n",
       "tt0113092       The ultimate showdown on a forbidden planet.   \n",
       "tt0116391                                                NaN   \n",
       "tt0118694  Feel the heat, keep the feeling burning, let t...   \n",
       "\n",
       "                          title  video  vote_average  vote_count certification  \n",
       "imdb_id                                                                         \n",
       "0                           NaN    NaN           NaN         NaN           NaN  \n",
       "tt0113026       The Fantasticks    0.0         5.500        22.0           NaN  \n",
       "tt0113092         For the Cause    0.0         5.100         8.0           NaN  \n",
       "tt0116391                  Gang    0.0         4.000         1.0           NaN  \n",
       "tt0118694  In the Mood for Love    0.0         8.119      2204.0            PG  "
      ]
     },
     "execution_count": 8,
     "metadata": {},
     "output_type": "execute_result"
    }
   ],
   "source": [
    "df_list[0].head()"
   ]
  },
  {
   "cell_type": "markdown",
   "id": "435a5595",
   "metadata": {},
   "source": [
    "Attempts to concat dataframe together in one step failing. Will manually join all files together via for loop."
   ]
  },
  {
   "cell_type": "code",
   "execution_count": null,
   "id": "f66a517b",
   "metadata": {},
   "outputs": [
    {
     "name": "stdout",
     "output_type": "stream",
     "text": [
      "1\n",
      "2\n",
      "3\n",
      "4\n",
      "5\n",
      "6\n",
      "7\n",
      "8\n",
      "9\n",
      "10\n",
      "11\n",
      "12\n",
      "13\n",
      "14\n",
      "15\n",
      "16\n",
      "17\n",
      "18\n",
      "19\n",
      "20\n",
      "21\n",
      "22\n"
     ]
    }
   ],
   "source": [
    "# Concatenating the list of dfs into 1 combined df\n",
    "tmdb_df = df_list[0]\n",
    "for i in range(1, len(df_list)):\n",
    "    print(i)\n",
    "    tmdb_df = pd.concat([tmdb_df, df_list[i]])\n",
    "tmdb_df = pd.concat(df_list)\n",
    "tmdb_df"
   ]
  },
  {
   "cell_type": "code",
   "execution_count": null,
   "id": "60472245",
   "metadata": {},
   "outputs": [],
   "source": [
    "#Checking for duplicates\n",
    "tmdb_df.duplicated().sum()"
   ]
  },
  {
   "cell_type": "code",
   "execution_count": 17,
   "id": "0fb90210",
   "metadata": {},
   "outputs": [
    {
     "data": {
      "text/plain": [
       "0"
      ]
     },
     "execution_count": 17,
     "metadata": {},
     "output_type": "execute_result"
    }
   ],
   "source": [
    "tmdb_df = tmdb_df.drop_duplicates()\n",
    "tmdb_df.duplicated().sum()"
   ]
  },
  {
   "cell_type": "code",
   "execution_count": 18,
   "id": "a73f1a1d",
   "metadata": {},
   "outputs": [
    {
     "data": {
      "text/plain": [
       "adult                        1\n",
       "backdrop_path            22291\n",
       "belongs_to_collection    58600\n",
       "budget                       1\n",
       "genres                       1\n",
       "homepage                 47721\n",
       "id                           1\n",
       "original_language            1\n",
       "original_title               1\n",
       "overview                  1337\n",
       "popularity                   1\n",
       "poster_path               4904\n",
       "production_companies         1\n",
       "production_countries         1\n",
       "release_date               953\n",
       "revenue                      1\n",
       "runtime                      1\n",
       "spoken_languages             1\n",
       "status                       1\n",
       "tagline                  38870\n",
       "title                        1\n",
       "video                        1\n",
       "vote_average                 1\n",
       "vote_count                   1\n",
       "certification            47627\n",
       "dtype: int64"
      ]
     },
     "execution_count": 18,
     "metadata": {},
     "output_type": "execute_result"
    }
   ],
   "source": [
    "#Preliminary check for missing values\n",
    "tmdb_df.isna().sum()"
   ]
  },
  {
   "cell_type": "code",
   "execution_count": 19,
   "id": "39516537",
   "metadata": {},
   "outputs": [
    {
     "data": {
      "text/plain": [
       "adult                     0.001592\n",
       "backdrop_path            35.490137\n",
       "belongs_to_collection    93.298731\n",
       "budget                    0.001592\n",
       "genres                    0.001592\n",
       "homepage                 75.977965\n",
       "id                        0.001592\n",
       "original_language         0.001592\n",
       "original_title            0.001592\n",
       "overview                  2.128676\n",
       "popularity                0.001592\n",
       "poster_path               7.807798\n",
       "production_companies      0.001592\n",
       "production_countries      0.001592\n",
       "release_date              1.517298\n",
       "revenue                   0.001592\n",
       "runtime                   0.001592\n",
       "spoken_languages          0.001592\n",
       "status                    0.001592\n",
       "tagline                  61.886035\n",
       "title                     0.001592\n",
       "video                     0.001592\n",
       "vote_average              0.001592\n",
       "vote_count                0.001592\n",
       "certification            75.828305\n",
       "dtype: float64"
      ]
     },
     "execution_count": 19,
     "metadata": {},
     "output_type": "execute_result"
    }
   ],
   "source": [
    "tmdb_df.isna().sum()/len(tmdb_df) * 100"
   ]
  },
  {
   "cell_type": "code",
   "execution_count": 20,
   "id": "7479d4bc",
   "metadata": {},
   "outputs": [],
   "source": [
    "# Saving concatenated data frame\n",
    "tmdb_df.to_csv(\"Data/tmdb_data.csv.gz\", compression = \"gzip\", index = False)"
   ]
  }
 ],
 "metadata": {
  "kernelspec": {
   "display_name": "Python 3 (ipykernel)",
   "language": "python",
   "name": "python3"
  },
  "language_info": {
   "codemirror_mode": {
    "name": "ipython",
    "version": 3
   },
   "file_extension": ".py",
   "mimetype": "text/x-python",
   "name": "python",
   "nbconvert_exporter": "python",
   "pygments_lexer": "ipython3",
   "version": "3.9.15"
  },
  "toc": {
   "base_numbering": 1,
   "nav_menu": {},
   "number_sections": false,
   "sideBar": true,
   "skip_h1_title": false,
   "title_cell": "Table of Contents",
   "title_sidebar": "Contents",
   "toc_cell": false,
   "toc_position": {},
   "toc_section_display": true,
   "toc_window_display": false
  }
 },
 "nbformat": 4,
 "nbformat_minor": 5
}
